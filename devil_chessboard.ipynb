{
 "cells": [
  {
   "cell_type": "code",
   "execution_count": 1,
   "metadata": {
    "collapsed": false
   },
   "outputs": [],
   "source": [
    "import numpy as np\n",
    "\n",
    "# The devil gives you these: index (from 0 to 63) is the location of the magic coin\n",
    "# board is heads and tails read as 1s and 0s off the chessboard, in some order.\n",
    "\n",
    "index = 39\n",
    "#board = np.array([0,1,1,0,0,0,0,0,1,1,1,0,1,1,0,1,0,1,0,1,1,1,1,0,1,1,1,0,1,0,0,1,0,1,0,1,0,0,0,0,1,1,0,1,0,0,1,0,0,0,0,0,0,0,0,1,1,1,0,0,0,0,0,0])\n",
    "board = np.random.random_integers(0,1,size=64)\n",
    "\n",
    "\n",
    "def you(index,board):\n",
    "    \"\"\"\n",
    "    Takes an integer from [0,63] and encodes it into the board\n",
    "    by flipping exactly one bit within it.\n",
    "    \"\"\"\n",
    "    bitstring = '{0:06b}'.format(index)\n",
    "    bits = np.array([int(bit) for bit in bitstring])\n",
    "\n",
    "    bit_to_flip = 0\n",
    "\n",
    "    for i,bit in enumerate(bits):\n",
    "        slice = np.arange(64)%(2**(i+1)) >= 2**i\n",
    "        slice_parity = np.sum(np.logical_and(slice,board))%2\n",
    "        if slice_parity != bit:\n",
    "            bit_to_flip += 2**i\n",
    "    #print bit_to_flip\n",
    "    board[bit_to_flip] = np.logical_not(board[bit_to_flip])\n",
    "    return board\n"
   ]
  },
  {
   "cell_type": "code",
   "execution_count": 2,
   "metadata": {
    "collapsed": false
   },
   "outputs": [],
   "source": [
    "def friend(board):\n",
    "    \"\"\"\n",
    "    Takes a board with an encoded index and recovers it.\n",
    "    \"\"\"\n",
    "    recovered_bits = np.zeros(6)\n",
    "    for i in range(6):\n",
    "        slice = np.arange(64)%(2**(i+1)) >= 2**i\n",
    "        recovered_bits[i] = np.sum(np.logical_and(slice,board))%2\n",
    "    #print recovered_bits.astype('int')\n",
    "    recovered_index = 0\n",
    "    for i,bit in enumerate(recovered_bits[::-1]):\n",
    "        recovered_index += bit*2**i\n",
    "    return int(recovered_index)"
   ]
  },
  {
   "cell_type": "code",
   "execution_count": 5,
   "metadata": {
    "collapsed": false
   },
   "outputs": [
    {
     "name": "stdout",
     "output_type": "stream",
     "text": [
      "39\n",
      "39\n"
     ]
    }
   ],
   "source": [
    "print index\n",
    "print friend(you(index,board))"
   ]
  },
  {
   "cell_type": "code",
   "execution_count": null,
   "metadata": {
    "collapsed": true
   },
   "outputs": [],
   "source": []
  }
 ],
 "metadata": {
  "kernelspec": {
   "display_name": "Python 2",
   "language": "python",
   "name": "python2"
  },
  "language_info": {
   "codemirror_mode": {
    "name": "ipython",
    "version": 2
   },
   "file_extension": ".py",
   "mimetype": "text/x-python",
   "name": "python",
   "nbconvert_exporter": "python",
   "pygments_lexer": "ipython2",
   "version": "2.7.9"
  }
 },
 "nbformat": 4,
 "nbformat_minor": 0
}
